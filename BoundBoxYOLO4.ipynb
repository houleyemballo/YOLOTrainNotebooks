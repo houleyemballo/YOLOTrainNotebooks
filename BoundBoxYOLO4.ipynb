{
 "cells": [
  {
   "cell_type": "markdown",
   "metadata": {},
   "source": [
    "Making sure the YOLO v4 files are in the correct location"
   ]
  },
  {
   "cell_type": "code",
   "execution_count": 1,
   "metadata": {
    "scrolled": false
   },
   "outputs": [
    {
     "name": "stdout",
     "output_type": "stream",
     "text": [
      "coco.names\n",
      "yolov3.cfg\n",
      "yolov3.weights\n",
      "yolov4.cfg\n",
      "yolov4.weights\n"
     ]
    }
   ],
   "source": [
    "!ls yolo-coco-data/"
   ]
  },
  {
   "cell_type": "code",
   "execution_count": 2,
   "metadata": {},
   "outputs": [],
   "source": [
    "\n",
    "\"\"\"\n",
    "Course:  Training YOLO v3 for Objects Detection with Custom Data\n",
    "\n",
    "Section-2\n",
    "Objects Detection on Image with YOLO v3 and OpenCV\n",
    "File: yolo-3-image.py\n",
    "\"\"\"\n",
    "\n",
    "\n",
    "# Detecting Objects on Image with OpenCV deep learning library\n",
    "\n",
    "#\n",
    "# Algorithm:\n",
    "# Reading RGB image --> Getting Blob --> Loading YOLO v3 Network -->\n",
    "# --> Implementing Forward Pass --> Getting Bounding Boxes -->\n",
    "# --> Non-maximum Suppression --> Drawing Bounding Boxes with Labels\n",
    "#\n",
    "# Result:\n",
    "# Window with Detected Objects, Bounding Boxes and Labels\n",
    "\n",
    "\n",
    "# Importing needed libraries\n",
    "import numpy as np\n",
    "import cv2\n",
    "import time"
   ]
  },
  {
   "cell_type": "code",
   "execution_count": 3,
   "metadata": {},
   "outputs": [],
   "source": [
    "\"\"\"\n",
    "Start of:\n",
    "Reading input image\n",
    "\"\"\"\n",
    "\n",
    "# Reading image with OpenCV library\n",
    "# In this way image is opened already as numpy array\n",
    "# WARNING! OpenCV by default reads images in BGR format\n",
    "# Pay attention! If you're using Windows, the path might looks like:\n",
    "# r'images\\woman-working-in-the-office.jpg'\n",
    "# or:\n",
    "# 'images\\\\woman-working-in-the-office.jpg'\n",
    "image_BGR = cv2.imread('images/catpile.jpg')"
   ]
  },
  {
   "cell_type": "code",
   "execution_count": 4,
   "metadata": {},
   "outputs": [],
   "source": [
    "# Showing Original Image\n",
    "# Giving name to the window with Original Image\n",
    "# And specifying that window is resizable\n",
    "cv2.namedWindow('Original Image', cv2.WINDOW_NORMAL)\n",
    "# Pay attention! 'cv2.imshow' takes images in BGR format\n",
    "cv2.imshow('Original Image', image_BGR)\n",
    "# Waiting for any key being pressed\n",
    "cv2.waitKey(0)\n",
    "# Destroying opened window with name 'Original Image'\n",
    "cv2.destroyWindow('Original Image')\n"
   ]
  },
  {
   "cell_type": "code",
   "execution_count": 5,
   "metadata": {},
   "outputs": [
    {
     "name": "stdout",
     "output_type": "stream",
     "text": [
      "Image shape: (4032, 3024, 3)\n"
     ]
    }
   ],
   "source": [
    "# # Check point\n",
    "# # Showing image shape\n",
    "print('Image shape:', image_BGR.shape)  # tuple of (511, 767, 3)"
   ]
  },
  {
   "cell_type": "code",
   "execution_count": 6,
   "metadata": {},
   "outputs": [],
   "source": [
    "# Getting spatial dimension of input image\n",
    "h, w = image_BGR.shape[:2]  # Slicing from tuple only first two elements\n",
    "\n",
    "# # # Check point\n",
    "# # # Showing height an width of image\n",
    "# print('Image height={0} and width={1}'.format(h, w))  # 511 767"
   ]
  },
  {
   "cell_type": "code",
   "execution_count": 7,
   "metadata": {},
   "outputs": [
    {
     "data": {
      "text/plain": [
       "'\\nEnd of:\\nGetting blob from input image\\n'"
      ]
     },
     "execution_count": 7,
     "metadata": {},
     "output_type": "execute_result"
    }
   ],
   "source": [
    "\"\"\"\n",
    "Start of:\n",
    "Getting blob from input image\n",
    "\"\"\"\n",
    "\n",
    "# Getting blob from input image\n",
    "# The 'cv2.dnn.blobFromImage' function returns 4-dimensional blob\n",
    "# from input image after mean subtraction, normalizing, and RB channels swapping\n",
    "# Resulted shape has number of images, number of channels, width and height\n",
    "# E.G.:\n",
    "# blob = cv2.dnn.blobFromImage(image, scalefactor=1.0, size, mean, swapRB=True)\n",
    "blob = cv2.dnn.blobFromImage(image_BGR, 1 / 255.0, (416, 416),\n",
    "                             swapRB=True, crop=False)\n",
    "\n",
    "# # # Check point\n",
    "# print('Image shape:', image_BGR.shape)  # (511, 767, 3)\n",
    "# print('Blob shape:', blob.shape)  # (1, 3, 416, 416)\n",
    "\n",
    "# # # Check point\n",
    "# # # Showing blob image in OpenCV window\n",
    "# # # Slicing blob image and transposing to make channels come at the end\n",
    "# blob_to_show = blob[0, :, :, :].transpose(1, 2, 0)\n",
    "# print(blob_to_show.shape)  # (416, 416, 3)\n",
    "# #\n",
    "# # # Showing Blob Image\n",
    "# # # Giving name to the window with Blob Image\n",
    "# # # And specifying that window is resizable\n",
    "# cv2.namedWindow('Blob Image', cv2.WINDOW_NORMAL)\n",
    "# # # Pay attention! 'cv2.imshow' takes images in BGR format\n",
    "# # # Consequently, we DO need to convert image from RGB to BGR firstly\n",
    "# # # Because we have our blob in RGB format\n",
    "# cv2.imshow('Blob Image', cv2.cvtColor(blob_to_show, cv2.COLOR_RGB2BGR))\n",
    "# # # Waiting for any key being pressed\n",
    "# cv2.waitKey(0)\n",
    "# # # Destroying opened window with name 'Blob Image'\n",
    "# cv2.destroyWindow('Blob Image')\n",
    "\n",
    "\"\"\"\n",
    "End of:\n",
    "Getting blob from input image\n",
    "\"\"\"\n"
   ]
  },
  {
   "cell_type": "code",
   "execution_count": 8,
   "metadata": {},
   "outputs": [],
   "source": [
    "# pip install opencv-python==4.5.3.56"
   ]
  },
  {
   "cell_type": "code",
   "execution_count": 9,
   "metadata": {},
   "outputs": [
    {
     "name": "stdout",
     "output_type": "stream",
     "text": [
      "List with labels names:\n",
      "['person', 'bicycle', 'car', 'motorbike', 'aeroplane', 'bus', 'train', 'truck', 'boat', 'traffic light', 'fire hydrant', 'stop sign', 'parking meter', 'bench', 'bird', 'cat', 'dog', 'horse', 'sheep', 'cow', 'elephant', 'bear', 'zebra', 'giraffe', 'backpack', 'umbrella', 'handbag', 'tie', 'suitcase', 'frisbee', 'skis', 'snowboard', 'sports ball', 'kite', 'baseball bat', 'baseball glove', 'skateboard', 'surfboard', 'tennis racket', 'bottle', 'wine glass', 'cup', 'fork', 'knife', 'spoon', 'bowl', 'banana', 'apple', 'sandwich', 'orange', 'broccoli', 'carrot', 'hot dog', 'pizza', 'donut', 'cake', 'chair', 'sofa', 'pottedplant', 'bed', 'diningtable', 'toilet', 'tvmonitor', 'laptop', 'mouse', 'remote', 'keyboard', 'cell phone', 'microwave', 'oven', 'toaster', 'sink', 'refrigerator', 'book', 'clock', 'vase', 'scissors', 'teddy bear', 'hair drier', 'toothbrush']\n"
     ]
    },
    {
     "data": {
      "text/plain": [
       "'\\nEnd of:\\nLoading YOLO v3 network\\n'"
      ]
     },
     "execution_count": 9,
     "metadata": {},
     "output_type": "execute_result"
    }
   ],
   "source": [
    "\"\"\"\n",
    "Start of:\n",
    "Loading YOLO v4 network\n",
    "\"\"\"\n",
    "\n",
    "# Loading COCO class labels from file\n",
    "# Opening file\n",
    "# Pay attention! If you're using Windows, yours path might looks like:\n",
    "# r'yolo-coco-data\\coco.names'\n",
    "# or:\n",
    "# 'yolo-coco-data\\\\coco.names'\n",
    "with open('yolo-coco-data/coco.names') as f:\n",
    "    # Getting labels reading every line\n",
    "    # and putting them into the list\n",
    "    labels = [line.strip() for line in f]\n",
    "\n",
    "\n",
    "# Check point\n",
    "print('List with labels names:')\n",
    "print(labels)\n",
    "\n",
    "# Loading trained YOLO v4 Objects Detector\n",
    "# with the help of 'dnn' library from OpenCV\n",
    "# Pay attention! If you're using Windows, yours paths might look like:\n",
    "# r'yolo-coco-data\\yolov3.cfg'\n",
    "# r'yolo-coco-data\\yolov3.weights'\n",
    "# or:\n",
    "# 'yolo-coco-data\\\\yolov3.cfg'\n",
    "# 'yolo-coco-data\\\\yolov3.weights'\n",
    "network = cv2.dnn.readNetFromDarknet('yolo-coco-data/yolov4.cfg',\n",
    "                                     'yolo-coco-data/yolov4.weights')\n",
    "\n",
    "# Getting list with names of all layers from YOLO v3 network\n",
    "layers_names_all = network.getLayerNames()\n",
    "\n",
    "# # Check point\n",
    "# print()\n",
    "# print(layers_names_all)\n",
    "\n",
    "# Getting only output layers' names that we need from YOLO v4 algorithm\n",
    "# with function that returns indexes of layers with unconnected outputs\n",
    "layers_names_output = \\\n",
    "    [layers_names_all[i[0] - 1] for i in network.getUnconnectedOutLayers()]\n",
    "\n",
    "# # Check point\n",
    "# # print()\n",
    "# print(layers_names_output)  # ['yolo_82', 'yolo_94', 'yolo_106']\n",
    "\n",
    "# Setting minimum probability to eliminate weak predictions\n",
    "probability_minimum = 0.5\n",
    "\n",
    "# Setting threshold for filtering weak bounding boxes\n",
    "# with non-maximum suppression\n",
    "threshold = 0.3\n",
    "\n",
    "# Generating colours for representing every detected object\n",
    "# with function randint(low, high=None, size=None, dtype='l')\n",
    "colours = np.random.randint(0, 255, size=(len(labels), 3), dtype='uint8')\n",
    "\n",
    "# # Check point\n",
    "# print()\n",
    "# print(type(colours))  # <class 'numpy.ndarray'>\n",
    "# print(colours.shape)  # (80, 3)\n",
    "# print(colours[0])  # [172  10 127]\n",
    "\n",
    "\"\"\"\n",
    "End of:\n",
    "Loading YOLO v3 network\n",
    "\"\"\"\n"
   ]
  },
  {
   "cell_type": "code",
   "execution_count": 10,
   "metadata": {},
   "outputs": [
    {
     "name": "stdout",
     "output_type": "stream",
     "text": [
      "Objects Detection took 0.34907 seconds\n"
     ]
    },
    {
     "data": {
      "text/plain": [
       "'\\nEnd of:\\nImplementing Forward pass\\n'"
      ]
     },
     "execution_count": 10,
     "metadata": {},
     "output_type": "execute_result"
    }
   ],
   "source": [
    "\"\"\"\n",
    "Start of:\n",
    "Implementing Forward pass\n",
    "\"\"\"\n",
    "\n",
    "# Implementing forward pass with our blob and only through output layers\n",
    "# Calculating at the same time, needed time for forward pass\n",
    "network.setInput(blob)  # setting blob as input to the network\n",
    "start = time.time()\n",
    "output_from_network = network.forward(layers_names_output)\n",
    "end = time.time()\n",
    "\n",
    "# Showing spent time for forward pass\n",
    "print('Objects Detection took {:.5f} seconds'.format(end - start))\n",
    "\n",
    "\"\"\"\n",
    "End of:\n",
    "Implementing Forward pass\n",
    "\"\"\""
   ]
  },
  {
   "cell_type": "code",
   "execution_count": 11,
   "metadata": {},
   "outputs": [
    {
     "data": {
      "text/plain": [
       "'\\nEnd of:\\nGetting bounding boxes\\n'"
      ]
     },
     "execution_count": 11,
     "metadata": {},
     "output_type": "execute_result"
    }
   ],
   "source": [
    "\"\"\"\n",
    "Start of:\n",
    "Getting bounding boxes\n",
    "\"\"\"\n",
    "\n",
    "# Preparing lists for detected bounding boxes,\n",
    "# obtained confidences and class's number\n",
    "bounding_boxes = []\n",
    "confidences = []\n",
    "class_numbers = []\n",
    "\n",
    "\n",
    "# Going through all output layers after feed forward pass\n",
    "for result in output_from_network:\n",
    "    # Going through all detections from current output layer\n",
    "    for detected_objects in result:\n",
    "        # Getting 80 classes' probabilities for current detected object\n",
    "        scores = detected_objects[5:]\n",
    "        # Getting index of the class with the maximum value of probability\n",
    "        class_current = np.argmax(scores)\n",
    "        # Getting value of probability for defined class\n",
    "        confidence_current = scores[class_current]\n",
    "\n",
    "        # # Check point\n",
    "        # # Every 'detected_objects' numpy array has first 4 numbers with\n",
    "        # # bounding box coordinates and rest 80 with probabilities for every class\n",
    "        # print(detected_objects.shape)  # (85,)\n",
    "\n",
    "        # Eliminating weak predictions with minimum probability\n",
    "        if confidence_current > probability_minimum:\n",
    "            # Scaling bounding box coordinates to the initial image size\n",
    "            # YOLO data format keeps coordinates for center of bounding box\n",
    "            # and its current width and height\n",
    "            # That is why we can just multiply them elementwise\n",
    "            # to the width and height\n",
    "            # of the original image and in this way get coordinates for center\n",
    "            # of bounding box, its width and height for original image\n",
    "            box_current = detected_objects[0:4] * np.array([w, h, w, h])\n",
    "\n",
    "            # Now, from YOLO data format, we can get top left corner coordinates\n",
    "            # that are x_min and y_min\n",
    "            x_center, y_center, box_width, box_height = box_current\n",
    "            x_min = int(x_center - (box_width / 2))\n",
    "            y_min = int(y_center - (box_height / 2))\n",
    "\n",
    "            # Adding results into prepared lists\n",
    "            bounding_boxes.append([x_min, y_min, int(box_width), int(box_height)])\n",
    "            confidences.append(float(confidence_current))\n",
    "            class_numbers.append(class_current)\n",
    "\n",
    "\"\"\"\n",
    "End of:\n",
    "Getting bounding boxes\n",
    "\"\"\"\n"
   ]
  },
  {
   "cell_type": "code",
   "execution_count": 12,
   "metadata": {},
   "outputs": [
    {
     "data": {
      "text/plain": [
       "'\\nEnd of:\\nNon-maximum suppression\\n'"
      ]
     },
     "execution_count": 12,
     "metadata": {},
     "output_type": "execute_result"
    }
   ],
   "source": [
    "\n",
    "\"\"\"\n",
    "Start of:\n",
    "Non-maximum suppression\n",
    "\"\"\"\n",
    "\n",
    "# Implementing non-maximum suppression of given bounding boxes\n",
    "# With this technique we exclude some of bounding boxes if their\n",
    "# corresponding confidences are low or there is another\n",
    "# bounding box for this region with higher confidence\n",
    "\n",
    "# It is needed to make sure that data type of the boxes is 'int'\n",
    "# and data type of the confidences is 'float'\n",
    "# https://github.com/opencv/opencv/issues/12789\n",
    "results = cv2.dnn.NMSBoxes(bounding_boxes, confidences,\n",
    "                           probability_minimum, threshold)\n",
    "\n",
    "\"\"\"\n",
    "End of:\n",
    "Non-maximum suppression\n",
    "\"\"\"\n"
   ]
  },
  {
   "cell_type": "code",
   "execution_count": 13,
   "metadata": {},
   "outputs": [
    {
     "name": "stdout",
     "output_type": "stream",
     "text": [
      "Object 1: cat\n",
      "\n",
      "Total objects been detected: 5\n",
      "Number of objects left after non-maximum suppression: 1\n"
     ]
    },
    {
     "ename": "error",
     "evalue": "OpenCV(4.5.3) C:\\Users\\runneradmin\\AppData\\Local\\Temp\\pip-req-build-q3d_8t8e\\opencv\\modules\\highgui\\src\\window_w32.cpp:1246: error: (-27:Null pointer) NULL window: 'Detections' in function 'cvDestroyWindow'\n",
     "output_type": "error",
     "traceback": [
      "\u001b[1;31m---------------------------------------------------------------------------\u001b[0m",
      "\u001b[1;31merror\u001b[0m                                     Traceback (most recent call last)",
      "\u001b[1;32m<ipython-input-13-47b6f5394ea8>\u001b[0m in \u001b[0;36m<module>\u001b[1;34m\u001b[0m\n\u001b[0;32m     65\u001b[0m \u001b[0mcv2\u001b[0m\u001b[1;33m.\u001b[0m\u001b[0mwaitKey\u001b[0m\u001b[1;33m(\u001b[0m\u001b[1;36m0\u001b[0m\u001b[1;33m)\u001b[0m\u001b[1;33m\u001b[0m\u001b[1;33m\u001b[0m\u001b[0m\n\u001b[0;32m     66\u001b[0m \u001b[1;31m# Destroying opened window with name 'Detections'\u001b[0m\u001b[1;33m\u001b[0m\u001b[1;33m\u001b[0m\u001b[1;33m\u001b[0m\u001b[0m\n\u001b[1;32m---> 67\u001b[1;33m \u001b[0mcv2\u001b[0m\u001b[1;33m.\u001b[0m\u001b[0mdestroyWindow\u001b[0m\u001b[1;33m(\u001b[0m\u001b[1;34m'Detections'\u001b[0m\u001b[1;33m)\u001b[0m\u001b[1;33m\u001b[0m\u001b[1;33m\u001b[0m\u001b[0m\n\u001b[0m\u001b[0;32m     68\u001b[0m \u001b[1;33m\u001b[0m\u001b[0m\n\u001b[0;32m     69\u001b[0m \u001b[1;33m\u001b[0m\u001b[0m\n",
      "\u001b[1;31merror\u001b[0m: OpenCV(4.5.3) C:\\Users\\runneradmin\\AppData\\Local\\Temp\\pip-req-build-q3d_8t8e\\opencv\\modules\\highgui\\src\\window_w32.cpp:1246: error: (-27:Null pointer) NULL window: 'Detections' in function 'cvDestroyWindow'\n"
     ]
    }
   ],
   "source": [
    "\"\"\"\n",
    "Start of:\n",
    "Drawing bounding boxes and labels\n",
    "\"\"\"\n",
    "\n",
    "# Defining counter for detected objects\n",
    "counter = 1\n",
    "\n",
    "# Checking if there is at least one detected object after non-maximum suppression\n",
    "if len(results) > 0:\n",
    "    # Going through indexes of results\n",
    "    for i in results.flatten():\n",
    "        # Showing labels of the detected objects\n",
    "        print('Object {0}: {1}'.format(counter, labels[int(class_numbers[i])]))\n",
    "\n",
    "        # Incrementing counter\n",
    "        counter += 1\n",
    "\n",
    "        # Getting current bounding box coordinates,\n",
    "        # its width and height\n",
    "        x_min, y_min = bounding_boxes[i][0], bounding_boxes[i][1]\n",
    "        box_width, box_height = bounding_boxes[i][2], bounding_boxes[i][3]\n",
    "\n",
    "        # Preparing colour for current bounding box\n",
    "        # and converting from numpy array to list\n",
    "        colour_box_current = colours[class_numbers[i]].tolist()\n",
    "\n",
    "        # # # Check point\n",
    "        # print(type(colour_box_current))  # <class 'list'>\n",
    "        # print(colour_box_current)  # [172 , 10, 127]\n",
    "\n",
    "        # Drawing bounding box on the original image\n",
    "        cv2.rectangle(image_BGR, (x_min, y_min),\n",
    "                      (x_min + box_width, y_min + box_height),\n",
    "                      colour_box_current, 2)\n",
    "\n",
    "        # Preparing text with label and confidence for current bounding box\n",
    "        text_box_current = '{}: {:.4f}'.format(labels[int(class_numbers[i])],\n",
    "                                               confidences[i])\n",
    "\n",
    "        # Putting text with label and confidence on the original image\n",
    "        cv2.putText(image_BGR, text_box_current, (x_min, y_min - 5),\n",
    "                    cv2.FONT_HERSHEY_COMPLEX, 0.7, colour_box_current, 2)\n",
    "\n",
    "\n",
    "# Comparing how many objects where before non-maximum suppression\n",
    "# and left after\n",
    "print()\n",
    "print('Total objects been detected:', len(bounding_boxes))\n",
    "print('Number of objects left after non-maximum suppression:', counter - 1)\n",
    "\n",
    "\"\"\"\n",
    "End of:\n",
    "Drawing bounding boxes and labels\n",
    "\"\"\"\n",
    "\n",
    "\n",
    "# Showing Original Image with Detected Objects\n",
    "# Giving name to the window with Original Image\n",
    "# And specifying that window is resizable\n",
    "cv2.namedWindow('Detections', cv2.WINDOW_NORMAL)\n",
    "# Pay attention! 'cv2.imshow' takes images in BGR format\n",
    "cv2.imshow('Detections', image_BGR)\n",
    "# Waiting for any key being pressed\n",
    "cv2.waitKey(0)\n",
    "# Destroying opened window with name 'Detections'\n",
    "cv2.destroyWindow('Detections')\n",
    "\n",
    "\n",
    "\"\"\"\n",
    "Some comments\n",
    "\n",
    "With OpenCV function 'cv2.dnn.blobFromImage' we get 4-dimensional\n",
    "so called 'blob' from input image after mean subtraction,\n",
    "normalizing, and RB channels swapping. Resulted shape has:\n",
    " - number of images\n",
    " - number of channels\n",
    " - width\n",
    " - height\n",
    "E.G.: blob = cv2.dnn.blobFromImage(image, scalefactor=1.0, size, mean, swapRB=True)\n",
    "\"\"\""
   ]
  },
  {
   "cell_type": "code",
   "execution_count": null,
   "metadata": {},
   "outputs": [],
   "source": []
  }
 ],
 "metadata": {
  "kernelspec": {
   "display_name": "Python 3",
   "language": "python",
   "name": "python3"
  },
  "language_info": {
   "codemirror_mode": {
    "name": "ipython",
    "version": 3
   },
   "file_extension": ".py",
   "mimetype": "text/x-python",
   "name": "python",
   "nbconvert_exporter": "python",
   "pygments_lexer": "ipython3",
   "version": "3.8.5"
  }
 },
 "nbformat": 4,
 "nbformat_minor": 4
}
